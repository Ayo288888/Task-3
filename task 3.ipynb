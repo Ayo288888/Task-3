{
 "cells": [
  {
   "cell_type": "code",
   "execution_count": 1,
   "id": "755745ab",
   "metadata": {},
   "outputs": [
    {
     "name": "stdout",
     "output_type": "stream",
     "text": [
      "Requirement already satisfied: pandas in c:\\users\\ayo\\appdata\\local\\programs\\python\\python312\\lib\\site-packages (2.2.3)\n",
      "Requirement already satisfied: numpy in c:\\users\\ayo\\appdata\\local\\programs\\python\\python312\\lib\\site-packages (2.2.4)\n",
      "Requirement already satisfied: scipy in c:\\users\\ayo\\appdata\\local\\programs\\python\\python312\\lib\\site-packages (1.15.2)\n",
      "Requirement already satisfied: python-dateutil>=2.8.2 in c:\\users\\ayo\\appdata\\local\\programs\\python\\python312\\lib\\site-packages (from pandas) (2.9.0.post0)\n",
      "Requirement already satisfied: pytz>=2020.1 in c:\\users\\ayo\\appdata\\local\\programs\\python\\python312\\lib\\site-packages (from pandas) (2025.2)\n",
      "Requirement already satisfied: tzdata>=2022.7 in c:\\users\\ayo\\appdata\\local\\programs\\python\\python312\\lib\\site-packages (from pandas) (2025.2)\n",
      "Requirement already satisfied: six>=1.5 in c:\\users\\ayo\\appdata\\local\\programs\\python\\python312\\lib\\site-packages (from python-dateutil>=2.8.2->pandas) (1.17.0)\n",
      "Note: you may need to restart the kernel to use updated packages.\n"
     ]
    },
    {
     "name": "stderr",
     "output_type": "stream",
     "text": [
      "\n",
      "[notice] A new release of pip is available: 25.0.1 -> 25.2\n",
      "[notice] To update, run: python.exe -m pip install --upgrade pip\n"
     ]
    }
   ],
   "source": [
    "pip install pandas numpy scipy\n"
   ]
  },
  {
   "cell_type": "code",
   "execution_count": 3,
   "id": "f2e4a34d",
   "metadata": {},
   "outputs": [],
   "source": [
    "import pandas as pd\n",
    "import numpy as np\n",
    "from scipy import stats\n",
    "data = pd.read_csv(\"dataset.csv\")\n"
   ]
  },
  {
   "cell_type": "code",
   "execution_count": 5,
   "id": "35d4987b",
   "metadata": {},
   "outputs": [
    {
     "name": "stdout",
     "output_type": "stream",
     "text": [
      "Dataset Information:\n",
      "<class 'pandas.core.frame.DataFrame'>\n",
      "RangeIndex: 4920 entries, 0 to 4919\n",
      "Data columns (total 18 columns):\n",
      " #   Column      Non-Null Count  Dtype \n",
      "---  ------      --------------  ----- \n",
      " 0   Disease     4920 non-null   object\n",
      " 1   Symptom_1   4920 non-null   object\n",
      " 2   Symptom_2   4920 non-null   object\n",
      " 3   Symptom_3   4920 non-null   object\n",
      " 4   Symptom_4   4572 non-null   object\n",
      " 5   Symptom_5   3714 non-null   object\n",
      " 6   Symptom_6   2934 non-null   object\n",
      " 7   Symptom_7   2268 non-null   object\n",
      " 8   Symptom_8   1944 non-null   object\n",
      " 9   Symptom_9   1692 non-null   object\n",
      " 10  Symptom_10  1512 non-null   object\n",
      " 11  Symptom_11  1194 non-null   object\n",
      " 12  Symptom_12  744 non-null    object\n",
      " 13  Symptom_13  504 non-null    object\n",
      " 14  Symptom_14  306 non-null    object\n",
      " 15  Symptom_15  240 non-null    object\n",
      " 16  Symptom_16  192 non-null    object\n",
      " 17  Symptom_17  72 non-null     object\n",
      "dtypes: object(18)\n",
      "memory usage: 692.0+ KB\n",
      "None \n",
      "\n"
     ]
    }
   ],
   "source": [
    "print(\"Dataset Information:\")\n",
    "print(data.info(), \"\\n\")\n",
    "\n",
    "\n"
   ]
  },
  {
   "cell_type": "code",
   "execution_count": 7,
   "id": "b298214a",
   "metadata": {},
   "outputs": [
    {
     "name": "stdout",
     "output_type": "stream",
     "text": [
      "rows of the dataset:\n",
      "            Disease   Symptom_1              Symptom_2              Symptom_3  \\\n",
      "0  Fungal infection     itching              skin_rash   nodal_skin_eruptions   \n",
      "1  Fungal infection   skin_rash   nodal_skin_eruptions    dischromic _patches   \n",
      "2  Fungal infection     itching   nodal_skin_eruptions    dischromic _patches   \n",
      "3  Fungal infection     itching              skin_rash    dischromic _patches   \n",
      "4  Fungal infection     itching              skin_rash   nodal_skin_eruptions   \n",
      "\n",
      "              Symptom_4 Symptom_5 Symptom_6 Symptom_7 Symptom_8 Symptom_9  \\\n",
      "0   dischromic _patches       NaN       NaN       NaN       NaN       NaN   \n",
      "1                   NaN       NaN       NaN       NaN       NaN       NaN   \n",
      "2                   NaN       NaN       NaN       NaN       NaN       NaN   \n",
      "3                   NaN       NaN       NaN       NaN       NaN       NaN   \n",
      "4                   NaN       NaN       NaN       NaN       NaN       NaN   \n",
      "\n",
      "  Symptom_10 Symptom_11 Symptom_12 Symptom_13 Symptom_14 Symptom_15  \\\n",
      "0        NaN        NaN        NaN        NaN        NaN        NaN   \n",
      "1        NaN        NaN        NaN        NaN        NaN        NaN   \n",
      "2        NaN        NaN        NaN        NaN        NaN        NaN   \n",
      "3        NaN        NaN        NaN        NaN        NaN        NaN   \n",
      "4        NaN        NaN        NaN        NaN        NaN        NaN   \n",
      "\n",
      "  Symptom_16 Symptom_17  \n",
      "0        NaN        NaN  \n",
      "1        NaN        NaN  \n",
      "2        NaN        NaN  \n",
      "3        NaN        NaN  \n",
      "4        NaN        NaN   \n",
      "\n"
     ]
    }
   ],
   "source": [
    "print(\"rows of the dataset:\")\n",
    "print(data.head(), \"\\n\")"
   ]
  },
  {
   "cell_type": "code",
   "execution_count": 8,
   "id": "9d877744",
   "metadata": {},
   "outputs": [
    {
     "name": "stdout",
     "output_type": "stream",
     "text": [
      "Summary Statistics:\n",
      "                 Disease  Symptom_1  Symptom_2 Symptom_3    Symptom_4  \\\n",
      "count               4920       4920       4920      4920         4572   \n",
      "unique                41         34         48        54           50   \n",
      "top     Fungal infection   vomiting   vomiting   fatigue   high_fever   \n",
      "freq                 120        822        870       726          378   \n",
      "\n",
      "        Symptom_5 Symptom_6        Symptom_7        Symptom_8  \\\n",
      "count        3714      2934             2268             1944   \n",
      "unique         38        32               26               21   \n",
      "top      headache    nausea   abdominal_pain   abdominal_pain   \n",
      "freq          348       390              264              276   \n",
      "\n",
      "                 Symptom_9          Symptom_10     Symptom_11 Symptom_12  \\\n",
      "count                 1692                1512           1194        744   \n",
      "unique                  22                  21             18         11   \n",
      "top      yellowing_of_eyes   yellowing_of_eyes   irritability    malaise   \n",
      "freq                   228                 198            120        126   \n",
      "\n",
      "          Symptom_13   Symptom_14   Symptom_15        Symptom_16    Symptom_17  \n",
      "count            504          306          240               192            72  \n",
      "unique             8            4            3                 3             1  \n",
      "top      muscle_pain   chest_pain   chest_pain   blood_in_sputum   muscle_pain  \n",
      "freq              72           96          144                72            72   \n",
      "\n"
     ]
    }
   ],
   "source": [
    "print(\"Summary Statistics:\")\n",
    "print(data.describe(include='all'), \"\\n\")"
   ]
  },
  {
   "cell_type": "code",
   "execution_count": 12,
   "id": "51238d10",
   "metadata": {},
   "outputs": [
    {
     "name": "stdout",
     "output_type": "stream",
     "text": [
      "Mean of each numerical feature:\n",
      "Series([], dtype: float64) \n",
      "\n",
      "Median of each numerical feature:\n",
      "Series([], dtype: float64) \n",
      "\n",
      "No mode found for numerical features. \n",
      "\n",
      "Standard Deviation of each numerical feature:\n",
      "Series([], dtype: float64) \n",
      "\n",
      "Correlation between numerical features:\n",
      "Empty DataFrame\n",
      "Columns: []\n",
      "Index: [] \n",
      "\n"
     ]
    }
   ],
   "source": [
    "num_data = data.select_dtypes(include=[np.number])\n",
    "# Calculate mean\n",
    "mean_values = num_data.mean()\n",
    "print(\"Mean of each numerical feature:\")\n",
    "print(mean_values, \"\\n\")\n",
    "\n",
    "# Calculate median\n",
    "median_values = num_data.median()\n",
    "print(\"Median of each numerical feature:\")\n",
    "print(median_values, \"\\n\")\n",
    "\n",
    "# Calculate mode\n",
    "mode_df = num_data.mode()\n",
    "\n",
    "if not mode_df.empty:\n",
    "    mode_values = mode_df.iloc[0]\n",
    "    print(\"Mode of each numerical feature:\")\n",
    "    print(mode_values, \"\\n\")\n",
    "else:\n",
    "    print(\"No mode found for numerical features. \\n\")\n",
    "\n",
    "# Calculate standard deviation\n",
    "std_values = num_data.std()\n",
    "print(\"Standard Deviation of each numerical feature:\")\n",
    "print(std_values, \"\\n\")\n",
    "\n",
    "# Calculate correlation between features\n",
    "correlation = num_data.corr()\n",
    "print(\"Correlation between numerical features:\")\n",
    "print(correlation, \"\\n\")"
   ]
  }
 ],
 "metadata": {
  "kernelspec": {
   "display_name": "Python 3",
   "language": "python",
   "name": "python3"
  },
  "language_info": {
   "codemirror_mode": {
    "name": "ipython",
    "version": 3
   },
   "file_extension": ".py",
   "mimetype": "text/x-python",
   "name": "python",
   "nbconvert_exporter": "python",
   "pygments_lexer": "ipython3",
   "version": "3.12.0"
  }
 },
 "nbformat": 4,
 "nbformat_minor": 5
}
